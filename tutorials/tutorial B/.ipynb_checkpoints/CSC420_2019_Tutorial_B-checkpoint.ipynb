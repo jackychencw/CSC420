{
 "cells": [
  {
   "cell_type": "code",
   "execution_count": 0,
   "metadata": {
    "colab": {},
    "colab_type": "code",
    "collapsed": true,
    "id": "TY4JHthpfohH"
   },
   "outputs": [],
   "source": [
    "# Load the Drive helper and mount\n",
    "from google.colab import drive\n",
    "\n",
    "# This will prompt for authorization.\n",
    "drive.mount('/content/drive')"
   ]
  },
  {
   "cell_type": "code",
   "execution_count": null,
   "metadata": {
    "colab": {},
    "colab_type": "code",
    "id": "W6xhnWkcfpCi"
   },
   "outputs": [
    {
     "name": "stdout",
     "output_type": "stream",
     "text": [
      "Collecting opencv-python\n",
      "\u001b[33m  WARNING: Retrying (Retry(total=4, connect=None, read=None, redirect=None, status=None)) after connection broken by 'ReadTimeoutError(\"HTTPSConnectionPool(host='files.pythonhosted.org', port=443): Read timed out. (read timeout=15)\",)': /packages/1a/d5/2379c6d79d36171030f0d5229b00c86e7636dccba69dd86593d1757eead0/opencv_python-4.1.1.26-cp36-cp36m-macosx_10_8_x86_64.macosx_10_9_intel.macosx_10_9_x86_64.macosx_10_10_intel.macosx_10_10_x86_64.whl\u001b[0m\n",
      "\u001b[33m  WARNING: Retrying (Retry(total=3, connect=None, read=None, redirect=None, status=None)) after connection broken by 'ReadTimeoutError(\"HTTPSConnectionPool(host='files.pythonhosted.org', port=443): Read timed out. (read timeout=15)\",)': /packages/1a/d5/2379c6d79d36171030f0d5229b00c86e7636dccba69dd86593d1757eead0/opencv_python-4.1.1.26-cp36-cp36m-macosx_10_8_x86_64.macosx_10_9_intel.macosx_10_9_x86_64.macosx_10_10_intel.macosx_10_10_x86_64.whl\u001b[0m\n",
      "\u001b[33m  WARNING: Retrying (Retry(total=2, connect=None, read=None, redirect=None, status=None)) after connection broken by 'ReadTimeoutError(\"HTTPSConnectionPool(host='files.pythonhosted.org', port=443): Read timed out. (read timeout=15)\",)': /packages/1a/d5/2379c6d79d36171030f0d5229b00c86e7636dccba69dd86593d1757eead0/opencv_python-4.1.1.26-cp36-cp36m-macosx_10_8_x86_64.macosx_10_9_intel.macosx_10_9_x86_64.macosx_10_10_intel.macosx_10_10_x86_64.whl\u001b[0m\n",
      "\u001b[?25l  Downloading https://files.pythonhosted.org/packages/1a/d5/2379c6d79d36171030f0d5229b00c86e7636dccba69dd86593d1757eead0/opencv_python-4.1.1.26-cp36-cp36m-macosx_10_8_x86_64.macosx_10_9_intel.macosx_10_9_x86_64.macosx_10_10_intel.macosx_10_10_x86_64.whl (51.6MB)\n",
      "\u001b[K     |███▋                            | 5.9MB 120kB/s eta 0:06:20"
     ]
    }
   ],
   "source": [
    "# install OpenCV\n",
    "!pip install opencv-python\n",
    "\n",
    "# the usual ...\n",
    "%matplotlib inline\n",
    "import matplotlib.pyplot as plt\n",
    "import cv2\n",
    "import numpy as np"
   ]
  },
  {
   "cell_type": "code",
   "execution_count": null,
   "metadata": {
    "colab": {},
    "colab_type": "code",
    "collapsed": true,
    "id": "q5nYC3uxftNR"
   },
   "outputs": [],
   "source": [
    "# read an image (make sure CavePainting.jpg is in the main folder in your Google Drive)\n",
    "img = cv2.imread('/content/drive/My Drive/Corners.jpg') # READS IN NUMPY ARRAY\n",
    "#img = cv2.imread('/content/drive/My Drive/Window2.jpg') # READS IN NUMPY ARRAY"
   ]
  },
  {
   "cell_type": "code",
   "execution_count": null,
   "metadata": {
    "colab": {},
    "colab_type": "code",
    "collapsed": true,
    "id": "rsFEopuZf1Jf"
   },
   "outputs": [],
   "source": [
    "img = cv2.cvtColor(img, cv2.COLOR_BGR2RGB)"
   ]
  },
  {
   "cell_type": "code",
   "execution_count": null,
   "metadata": {
    "colab": {},
    "colab_type": "code",
    "collapsed": true,
    "id": "IDohXvv5f-62"
   },
   "outputs": [],
   "source": [
    "plt.imshow(img)"
   ]
  },
  {
   "cell_type": "code",
   "execution_count": 0,
   "metadata": {
    "colab": {},
    "colab_type": "code",
    "collapsed": true,
    "id": "gU0pwnAdgSFY"
   },
   "outputs": [],
   "source": [
    "gray = cv2.cvtColor(img, cv2.COLOR_BGR2GRAY)\n",
    "blur = cv2.GaussianBlur(gray,(5,5),7)\n",
    "Ix = cv2.Sobel(blur, cv2.CV_64F, 1, 0, ksize=5)\n",
    "Iy = cv2.Sobel(blur, cv2.CV_64F, 0, 1, ksize=5)\n"
   ]
  },
  {
   "cell_type": "code",
   "execution_count": 0,
   "metadata": {
    "colab": {},
    "colab_type": "code",
    "collapsed": true,
    "id": "zSXIrvXUgmBW"
   },
   "outputs": [],
   "source": [
    "plt.subplot(2,1,1), plt.imshow(Ix,cmap = 'gray')\n",
    "plt.subplot(2,1,2), plt.imshow(Iy,cmap = 'gray')\n"
   ]
  },
  {
   "cell_type": "code",
   "execution_count": 0,
   "metadata": {
    "colab": {},
    "colab_type": "code",
    "collapsed": true,
    "id": "4K6ZbuA3gth1"
   },
   "outputs": [],
   "source": [
    "IxIy = np.multiply(Ix, Iy)\n",
    "Ix2 = np.multiply(Ix, Ix)\n",
    "Iy2 = np.multiply(Iy, Iy)"
   ]
  },
  {
   "cell_type": "code",
   "execution_count": 0,
   "metadata": {
    "colab": {},
    "colab_type": "code",
    "collapsed": true,
    "id": "ZgzeGFCphAKp"
   },
   "outputs": [],
   "source": [
    "Ix2_blur = cv2.GaussianBlur(Ix2,(7,7),10) \n",
    "Iy2_blur = cv2.GaussianBlur(Iy2,(7,7),10) \n",
    "IxIy_blur = cv2.GaussianBlur(IxIy,(7,7),10) "
   ]
  },
  {
   "cell_type": "code",
   "execution_count": 0,
   "metadata": {
    "colab": {},
    "colab_type": "code",
    "collapsed": true,
    "id": "L4aljhuQh2_v"
   },
   "outputs": [],
   "source": [
    "plt.subplot(1,3,1), plt.imshow(Ix2_blur,cmap = 'gray')\n",
    "plt.subplot(1,3,2), plt.imshow(Iy2_blur,cmap = 'gray')\n",
    "plt.subplot(1,3,3), plt.imshow(IxIy_blur,cmap = 'gray')\n"
   ]
  },
  {
   "cell_type": "code",
   "execution_count": 0,
   "metadata": {
    "colab": {},
    "colab_type": "code",
    "collapsed": true,
    "id": "v2tekMMuiEZs"
   },
   "outputs": [],
   "source": [
    "det = np.multiply(Ix2_blur, Iy2_blur) - np.multiply(IxIy_blur,IxIy_blur)\n",
    "trace = Ix2_blur + Iy2_blur"
   ]
  },
  {
   "cell_type": "code",
   "execution_count": 0,
   "metadata": {
    "colab": {},
    "colab_type": "code",
    "collapsed": true,
    "id": "Rnu4CwqwizvX"
   },
   "outputs": [],
   "source": [
    "plt.subplot(1,2,1), plt.imshow(det,cmap = 'gray')\n",
    "plt.subplot(1,2,2), plt.imshow(trace,cmap = 'gray')"
   ]
  },
  {
   "cell_type": "code",
   "execution_count": 0,
   "metadata": {
    "colab": {},
    "colab_type": "code",
    "collapsed": true,
    "id": "W5iTiGc6i_b2"
   },
   "outputs": [],
   "source": [
    "R = det - 0.05 * np.multiply(trace,trace)\n",
    "plt.subplot(1,2,1), plt.imshow(img), plt.axis('off')\n",
    "plt.subplot(1,2,2), plt.imshow(R,cmap = 'gray'), plt.axis('off')"
   ]
  }
 ],
 "metadata": {
  "accelerator": "TPU",
  "colab": {
   "collapsed_sections": [],
   "name": "CSC420_2019_Tutorial_B.ipynb",
   "provenance": []
  },
  "kernelspec": {
   "display_name": "Python 2",
   "language": "python",
   "name": "python2"
  },
  "language_info": {
   "codemirror_mode": {
    "name": "ipython",
    "version": 2
   },
   "file_extension": ".py",
   "mimetype": "text/x-python",
   "name": "python",
   "nbconvert_exporter": "python",
   "pygments_lexer": "ipython2",
   "version": "2.7.14"
  }
 },
 "nbformat": 4,
 "nbformat_minor": 1
}
