{
 "cells": [
  {
   "cell_type": "code",
   "execution_count": 0,
   "metadata": {
    "colab": {},
    "colab_type": "code",
    "collapsed": true,
    "id": "Ed8IEDQs23KP"
   },
   "outputs": [],
   "source": [
    "# Load the Drive helper and mount\n",
    "from google.colab import drive\n",
    "\n",
    "# This will prompt for authorization.\n",
    "drive.mount('/content/drive')"
   ]
  },
  {
   "cell_type": "code",
   "execution_count": 0,
   "metadata": {
    "colab": {},
    "colab_type": "code",
    "collapsed": true,
    "id": "JIVhh03-P1N5"
   },
   "outputs": [],
   "source": [
    "# After executing the cell above, Drive\n",
    "# files will be present in \"/content/drive/My Drive\".\n",
    "!ls \"/content/drive/My Drive/Colab Notebooks\""
   ]
  },
  {
   "cell_type": "code",
   "execution_count": 0,
   "metadata": {
    "colab": {},
    "colab_type": "code",
    "collapsed": true,
    "id": "Q1exTeIU3TyW"
   },
   "outputs": [],
   "source": [
    "# install OpenCV\n",
    "!pip install opencv-python\n",
    "\n",
    "# the usual ...\n",
    "%matplotlib inline\n",
    "import matplotlib.pyplot as plt\n",
    "import cv2\n",
    "import numpy as np"
   ]
  },
  {
   "cell_type": "code",
   "execution_count": 0,
   "metadata": {
    "colab": {},
    "colab_type": "code",
    "collapsed": true,
    "id": "1zdSDeAp3XbJ"
   },
   "outputs": [],
   "source": [
    "# read an image (make sure CavePainting.jpg is in the main folder in your Google Drive)\n",
    "img = cv2.imread('/content/drive/My Drive/CavePainting.jpg') # READS IN NUMPY ARRAY"
   ]
  },
  {
   "cell_type": "code",
   "execution_count": 0,
   "metadata": {
    "colab": {},
    "colab_type": "code",
    "collapsed": true,
    "id": "KKXImd3x3dxI"
   },
   "outputs": [],
   "source": [
    "whos"
   ]
  },
  {
   "cell_type": "code",
   "execution_count": 0,
   "metadata": {
    "colab": {},
    "colab_type": "code",
    "collapsed": true,
    "id": "dVAPUGW53fKg"
   },
   "outputs": [],
   "source": [
    "# not in colab\n",
    "# cv2.imshow('image',img)\n",
    "# cv2.waitKey(0)\n",
    "# cv2.destroyAllWindows()"
   ]
  },
  {
   "cell_type": "code",
   "execution_count": 0,
   "metadata": {
    "colab": {},
    "colab_type": "code",
    "collapsed": true,
    "id": "Me4Ovfld300i"
   },
   "outputs": [],
   "source": [
    "# display the image\n",
    "h,w = img.shape[:2]\n",
    "print(img.shape)\n",
    "plt.imshow(img,cmap='gray')\n",
    "plt.show()\n",
    "# what happened?"
   ]
  },
  {
   "cell_type": "code",
   "execution_count": 0,
   "metadata": {
    "colab": {},
    "colab_type": "code",
    "collapsed": true,
    "id": "kd4x1CrM4WGK"
   },
   "outputs": [],
   "source": [
    "# BGR <--> RGB\n",
    "img2 = cv2.cvtColor(img, cv2.COLOR_BGR2RGB)\n",
    "plt.imshow(img2)"
   ]
  },
  {
   "cell_type": "code",
   "execution_count": 0,
   "metadata": {
    "colab": {},
    "colab_type": "code",
    "collapsed": true,
    "id": "cCS5PDEaWjYB"
   },
   "outputs": [],
   "source": [
    "gray = cv2.cvtColor(img, cv2.COLOR_BGR2GRAY)\n",
    "plt.imshow(gray,cmap='gray')"
   ]
  },
  {
   "cell_type": "code",
   "execution_count": 0,
   "metadata": {
    "colab": {},
    "colab_type": "code",
    "collapsed": true,
    "id": "ET60wA6ZZcQj"
   },
   "outputs": [],
   "source": [
    "hist = cv2.calcHist([gray],[0],None,[256],[0,256])\n",
    "plt.plot(hist)"
   ]
  },
  {
   "cell_type": "code",
   "execution_count": 0,
   "metadata": {
    "colab": {},
    "colab_type": "code",
    "collapsed": true,
    "id": "SS0CxoYvZHd1"
   },
   "outputs": [],
   "source": [
    "whos"
   ]
  },
  {
   "cell_type": "code",
   "execution_count": 0,
   "metadata": {
    "colab": {},
    "colab_type": "code",
    "collapsed": true,
    "id": "qUNKOTOa4xbu"
   },
   "outputs": [],
   "source": [
    "# let's make a function\n",
    "def imshowBGR2RGB( im ):\n",
    "  img = cv2.cvtColor(im, cv2.COLOR_BGR2RGB)\n",
    "  plt.imshow(img)\n",
    "  plt.axis('off')\n",
    "  return"
   ]
  },
  {
   "cell_type": "code",
   "execution_count": 0,
   "metadata": {
    "colab": {},
    "colab_type": "code",
    "collapsed": true,
    "id": "CrRtRkCQlqzF"
   },
   "outputs": [],
   "source": [
    "imshowBGR2RGB(img)"
   ]
  },
  {
   "cell_type": "code",
   "execution_count": 0,
   "metadata": {
    "colab": {},
    "colab_type": "code",
    "collapsed": true,
    "id": "ouYnuGMUmUdF"
   },
   "outputs": [],
   "source": [
    "# scaling \n",
    "rows, cols = img.shape[:2]\n",
    "res = cv2.resize(img, (2*cols, 2*rows), interpolation = cv2.INTER_CUBIC)\n",
    "imshowBGR2RGB(res)"
   ]
  },
  {
   "cell_type": "code",
   "execution_count": 0,
   "metadata": {
    "colab": {},
    "colab_type": "code",
    "collapsed": true,
    "id": "B6fXT5d0Jn4d"
   },
   "outputs": [],
   "source": [
    "whos"
   ]
  },
  {
   "cell_type": "code",
   "execution_count": 0,
   "metadata": {
    "colab": {},
    "colab_type": "code",
    "collapsed": true,
    "id": "h9YeYWwbmm9U"
   },
   "outputs": [],
   "source": [
    "# scaling \n",
    "res = cv2.resize(img,(400, 150), interpolation = cv2.INTER_CUBIC)\n",
    "imshowBGR2RGB(res)"
   ]
  },
  {
   "cell_type": "code",
   "execution_count": 0,
   "metadata": {
    "colab": {},
    "colab_type": "code",
    "collapsed": true,
    "id": "UZKtwTnTnIDk"
   },
   "outputs": [],
   "source": [
    "# rotate (centre, angle, scale)\n",
    "M = cv2.getRotationMatrix2D((100, 120), -15, .7)\n",
    "dst = cv2.warpAffine(img, M, (cols,rows))\n",
    "imshowBGR2RGB(dst)"
   ]
  },
  {
   "cell_type": "code",
   "execution_count": 0,
   "metadata": {
    "colab": {},
    "colab_type": "code",
    "collapsed": true,
    "id": "Fx7nShEpoDTV"
   },
   "outputs": [],
   "source": [
    "# affine transformation\n",
    "pts1 = np.float32([[5,5],[5,50],[50,5]])\n",
    "pts2 = np.float32([[10,3],[20,30],[40,6]])\n",
    "\n",
    "M = cv2.getAffineTransform(pts1,pts2)\n",
    "\n",
    "dst = cv2.warpAffine(img,M,(cols,rows))\n",
    "\n",
    "imshowBGR2RGB(dst)"
   ]
  },
  {
   "cell_type": "code",
   "execution_count": 0,
   "metadata": {
    "colab": {},
    "colab_type": "code",
    "collapsed": true,
    "id": "kSXsttwF7a_B"
   },
   "outputs": [],
   "source": [
    "# perspective transformation\n",
    "\n",
    "# getPerspectiveTransform\n",
    "\n",
    "# how many point matches do we need?"
   ]
  },
  {
   "cell_type": "code",
   "execution_count": 0,
   "metadata": {
    "colab": {},
    "colab_type": "code",
    "collapsed": true,
    "id": "Jd7zQR-x8Dz-"
   },
   "outputs": [],
   "source": [
    "# averaging\n",
    "\n",
    "kernel = np.ones((7,7),np.float32)/49\n",
    "dst = cv2.filter2D(img,-1,kernel)\n",
    "\n",
    "imshowBGR2RGB(dst)"
   ]
  },
  {
   "cell_type": "code",
   "execution_count": 0,
   "metadata": {
    "colab": {},
    "colab_type": "code",
    "collapsed": true,
    "id": "V47bCuBU8Ye9"
   },
   "outputs": [],
   "source": [
    "# compare with the original\n",
    "imshowBGR2RGB(img)"
   ]
  },
  {
   "cell_type": "code",
   "execution_count": 0,
   "metadata": {
    "colab": {},
    "colab_type": "code",
    "collapsed": true,
    "id": "9AahIlAO8ucm"
   },
   "outputs": [],
   "source": [
    "# larger window\n",
    "kernel = np.ones((15,15),np.float32)/225\n",
    "dst = cv2.filter2D(img,-1,kernel)\n",
    "\n",
    "imshowBGR2RGB(dst)"
   ]
  },
  {
   "cell_type": "code",
   "execution_count": 0,
   "metadata": {
    "colab": {},
    "colab_type": "code",
    "collapsed": true,
    "id": "3WDnrq7lWBNS"
   },
   "outputs": [],
   "source": [
    "# Gaussian blur\n",
    "kernel = cv2.getGaussianKernel(15, 9)\n",
    "\n",
    "dst = cv2.filter2D(img,-1,kernel)\n",
    "\n",
    "imshowBGR2RGB(dst)\n",
    "\n",
    "# alternative: GaussianBlur(img,(15,15),20) "
   ]
  },
  {
   "cell_type": "code",
   "execution_count": 0,
   "metadata": {
    "colab": {},
    "colab_type": "code",
    "collapsed": true,
    "id": "miF-qIqC8yXG"
   },
   "outputs": [],
   "source": [
    "median = cv2.medianBlur(img, 7)\n",
    "imshowBGR2RGB(median)"
   ]
  },
  {
   "cell_type": "code",
   "execution_count": 0,
   "metadata": {
    "colab": {},
    "colab_type": "code",
    "collapsed": true,
    "id": "GUs4_mLG9fEg"
   },
   "outputs": [],
   "source": [
    "blur = cv2.bilateralFilter(img,30,75,75)\n",
    "imshowBGR2RGB(blur)"
   ]
  },
  {
   "cell_type": "code",
   "execution_count": 0,
   "metadata": {
    "colab": {},
    "colab_type": "code",
    "collapsed": true,
    "id": "WjH9TECdRAnx"
   },
   "outputs": [],
   "source": [
    "# image gradients\n",
    "img = cv2.imread('/content/drive/My Drive/window.jpg') # READS IN NUMPY ARRAY\n",
    "gray = cv2.cvtColor(img, cv2.COLOR_BGR2GRAY)\n",
    "laplacian = cv2.Laplacian(gray, cv2.CV_64F)\n",
    "#imshowBGR2RGB(laplacian)\n",
    "\n",
    "\n",
    "plt.subplot(2,1,1),plt.imshow(gray,cmap = 'gray')\n",
    "plt.title('Original'), plt.xticks([]), plt.yticks([])\n",
    "plt.subplot(2,1,2),plt.imshow(laplacian,cmap = 'gray')\n",
    "plt.title('Laplacian'), plt.xticks([]), plt.yticks([])"
   ]
  },
  {
   "cell_type": "code",
   "execution_count": 0,
   "metadata": {
    "colab": {},
    "colab_type": "code",
    "collapsed": true,
    "id": "3DiC0D6hL_wr"
   },
   "outputs": [],
   "source": [
    "#median = cv2.medianBlur(gray, 5)\n",
    "blur = cv2.GaussianBlur(gray,(5,5),1)\n",
    "plt.imshow(blur, cmap = 'gray')\n",
    "plt.xticks([]), plt.yticks([])\n"
   ]
  },
  {
   "cell_type": "code",
   "execution_count": 0,
   "metadata": {
    "colab": {},
    "colab_type": "code",
    "collapsed": true,
    "id": "b8NzOLJJLLhq"
   },
   "outputs": [],
   "source": [
    "# smooth first\n",
    "\n",
    "laplacian = cv2.Laplacian(blur, cv2.CV_64F)\n",
    "\n",
    "plt.subplot(2,1,1),plt.imshow(gray,cmap = 'gray')\n",
    "plt.title('Original'), plt.xticks([]), plt.yticks([])\n",
    "plt.subplot(2,1,2),plt.imshow(laplacian,cmap = 'gray')\n",
    "plt.title('Laplacian'), plt.xticks([]), plt.yticks([])"
   ]
  },
  {
   "cell_type": "code",
   "execution_count": 0,
   "metadata": {
    "colab": {},
    "colab_type": "code",
    "collapsed": true,
    "id": "h2vBnPfhJ5Hr"
   },
   "outputs": [],
   "source": [
    "sobelx = cv2.Sobel(blur, cv2.CV_64F, 1, 0, ksize=5)\n",
    "sobely = cv2.Sobel(blur, cv2.CV_64F, 0, 1, ksize=5)\n",
    "\n",
    "plt.subplot(2,1,1),plt.imshow(sobelx,cmap = 'gray')\n",
    "plt.title('Sobel X'), plt.xticks([]), plt.yticks([])\n",
    "plt.subplot(2,1,2),plt.imshow(sobely,cmap = 'gray')\n",
    "plt.title('Sobel Y'), plt.xticks([]), plt.yticks([])\n"
   ]
  },
  {
   "cell_type": "code",
   "execution_count": 0,
   "metadata": {
    "colab": {},
    "colab_type": "code",
    "collapsed": true,
    "id": "UxldPCO-SADg"
   },
   "outputs": [],
   "source": [
    "sobel_xy = abs(sobelx) + abs(sobely);\n",
    "plt.imshow(sobel_xy,cmap='gray')"
   ]
  },
  {
   "cell_type": "code",
   "execution_count": 0,
   "metadata": {
    "colab": {},
    "colab_type": "code",
    "collapsed": true,
    "id": "b2ehFqYdSlfF"
   },
   "outputs": [],
   "source": [
    "hist,bins = np.histogram(sobel_xy,256,[0,256])\n",
    "plt.plot(hist)"
   ]
  },
  {
   "cell_type": "code",
   "execution_count": 0,
   "metadata": {
    "colab": {},
    "colab_type": "code",
    "collapsed": true,
    "id": "Xqx_vf49TuN6"
   },
   "outputs": [],
   "source": [
    "th = sobel_xy < 20\n",
    "plt.imshow(th, cmap='gray')"
   ]
  },
  {
   "cell_type": "code",
   "execution_count": 0,
   "metadata": {
    "colab": {},
    "colab_type": "code",
    "collapsed": true,
    "id": "GxunpjiYKhmC"
   },
   "outputs": [],
   "source": [
    "# edges (Canny)\n",
    "edges = cv2.Canny(gray, 75, 100)\n",
    "\n",
    "plt.subplot(1, 2, 1),plt.imshow(gray, cmap = 'gray')\n",
    "plt.title('Original Image'), plt.xticks([]), plt.yticks([])\n",
    "plt.subplot(1,2, 2),plt.imshow(edges,cmap = 'gray')\n",
    "plt.title('Edge Image'), plt.xticks([]), plt.yticks([])"
   ]
  },
  {
   "cell_type": "code",
   "execution_count": 0,
   "metadata": {
    "colab": {},
    "colab_type": "code",
    "collapsed": true,
    "id": "0R3D_-ogVtm2"
   },
   "outputs": [],
   "source": [
    "lowres = cv2.pyrDown(img)\n",
    "lowres = cv2.pyrDown(lowres)\n",
    "lowres = cv2.pyrDown(lowres)\n",
    "imshowBGR2RGB(lowres)"
   ]
  },
  {
   "cell_type": "code",
   "execution_count": 0,
   "metadata": {
    "colab": {},
    "colab_type": "code",
    "collapsed": true,
    "id": "PzomUxEqYsBG"
   },
   "outputs": [],
   "source": [
    "highres = cv2.pyrUp(lowres)\n",
    "highres = cv2.pyrUp(highres)\n",
    "highres = cv2.pyrUp(highres)\n",
    "imshowBGR2RGB(highres)"
   ]
  },
  {
   "cell_type": "markdown",
   "metadata": {
    "colab_type": "text",
    "id": "el7VElGcA55W"
   },
   "source": [
    "**more:** [OpenCV-Python Tutorials](https://docs.opencv.org/3.0-beta/doc/py_tutorials/py_tutorials.html)\n"
   ]
  },
  {
   "cell_type": "markdown",
   "metadata": {
    "colab_type": "text",
    "id": "L12DYF89NluR"
   },
   "source": []
  }
 ],
 "metadata": {
  "accelerator": "TPU",
  "colab": {
   "collapsed_sections": [],
   "name": "CSC420_2019_Tutorial_A.ipynb",
   "provenance": [],
   "version": "0.3.2"
  },
  "kernelspec": {
   "display_name": "Python 2",
   "language": "python",
   "name": "python2"
  },
  "language_info": {
   "codemirror_mode": {
    "name": "ipython",
    "version": 2
   },
   "file_extension": ".py",
   "mimetype": "text/x-python",
   "name": "python",
   "nbconvert_exporter": "python",
   "pygments_lexer": "ipython2",
   "version": "2.7.14"
  }
 },
 "nbformat": 4,
 "nbformat_minor": 1
}
