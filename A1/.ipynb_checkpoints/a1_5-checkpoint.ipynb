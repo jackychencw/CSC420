{
 "cells": [
  {
   "cell_type": "code",
   "execution_count": 1,
   "metadata": {},
   "outputs": [],
   "source": [
    "import numpy as np"
   ]
  },
  {
   "cell_type": "code",
   "execution_count": 2,
   "metadata": {},
   "outputs": [],
   "source": [
    "def isSeperable(m):\n",
    "    u, s, vh = np.linalg.svd(m)\n",
    "    vs = np.diag(s)\n",
    "    threshold = 1e-7\n",
    "    non_vanishing_sv = vs[vs > threshold]\n",
    "    if len(non_vanishing_sv) == 1:\n",
    "        vf = np.sqrt(s[0]) * u[:,0]\n",
    "        hf = np.sqrt(s[0]) * vh[0]\n",
    "        return True, vf, hf\n",
    "    else:\n",
    "        return False, None, None"
   ]
  },
  {
   "cell_type": "code",
   "execution_count": null,
   "metadata": {},
   "outputs": [],
   "source": [
    "A = np.array([[1,1,1],[1,1,1],[1,1,1]])\n",
    "print isSeperable(A)"
   ]
  },
  {
   "cell_type": "code",
   "execution_count": null,
   "metadata": {},
   "outputs": [],
   "source": [
    "B = np.array([[0,1,1],[1,1,1],[1,1,1]])\n",
    "print isSeperable(B)"
   ]
  }
 ],
 "metadata": {
  "kernelspec": {
   "display_name": "Python 2",
   "language": "python",
   "name": "python2"
  },
  "language_info": {
   "codemirror_mode": {
    "name": "ipython",
    "version": 2
   },
   "file_extension": ".py",
   "mimetype": "text/x-python",
   "name": "python",
   "nbconvert_exporter": "python",
   "pygments_lexer": "ipython2",
   "version": "2.7.14"
  }
 },
 "nbformat": 4,
 "nbformat_minor": 2
}
