{
 "cells": [
  {
   "cell_type": "code",
   "execution_count": 357,
   "metadata": {},
   "outputs": [],
   "source": [
    "import numpy as np\n",
    "import cv2\n",
    "import scipy.misc\n",
    "from scipy.ndimage.filters import gaussian_filter\n",
    "path = \"/Users/jackychencw/Desktop/CSC420/A1/\""
   ]
  },
  {
   "cell_type": "code",
   "execution_count": 358,
   "metadata": {},
   "outputs": [],
   "source": [
    "def addRandNoise(I,m):\n",
    "    image = cv2.imread(path + I)\n",
    "    noise = np.random.uniform(-m, m, image.shape)\n",
    "    rescaled_image = np.interp(image, (image.min(), image.max()), (0.0, 1.0))\n",
    "    rescaled = rescaled_image + noise\n",
    "    noised_image = np.interp(rescaled, (rescaled.min(), rescaled.max()), (0, 256.0))\n",
    "#     scipy.misc.imsave(path + 'noised.jpg', noised_image)\n",
    "    return noised_image"
   ]
  },
  {
   "cell_type": "code",
   "execution_count": 359,
   "metadata": {},
   "outputs": [],
   "source": [
    "new_image = addRandNoise(\"color.jpg\", 0.05)\n",
    "scipy.misc.imsave(path + 'color_noised3.jpg', new_image)"
   ]
  },
  {
   "cell_type": "code",
   "execution_count": 374,
   "metadata": {},
   "outputs": [],
   "source": [
    "def denoise(I):\n",
    "    image = cv2.imread(path + I)\n",
    "    image = gaussian_filter(image, sigma=0,order=1)\n",
    "    return image"
   ]
  },
  {
   "cell_type": "code",
   "execution_count": 375,
   "metadata": {},
   "outputs": [],
   "source": [
    "denoised = denoise(\"salt-and-pepper.jpg\")\n",
    "scipy.misc.imsave(path + 'denoised12.jpg', denoised)"
   ]
  },
  {
   "cell_type": "code",
   "execution_count": 149,
   "metadata": {},
   "outputs": [],
   "source": [
    "def addSaltAndPepperNoise(I,density):\n",
    "    image = cv2.imread(path + I, 0)\n",
    "    noise = np.random.choice([0,1,2], image.shape[0] * image.shape[1], p = [1 - density, density/2, density/2])\n",
    "    noise = noise.reshape(image.shape)\n",
    "    where_salt = np.where(noise == 1)\n",
    "    where_pepper = np.where(noise == 2)\n",
    "    image[where_salt] = 255\n",
    "    image[where_pepper] = 0\n",
    "    return image"
   ]
  },
  {
   "cell_type": "code",
   "execution_count": 150,
   "metadata": {},
   "outputs": [
    {
     "name": "stdout",
     "output_type": "stream",
     "text": [
      "[[222 222 222 ..., 205 205 205]\n",
      " [222 222 222 ..., 205 205 205]\n",
      " [222 222 222 ..., 205 205 205]\n",
      " ..., \n",
      " [159 168 176 ..., 165 161 153]\n",
      " [156 169 179 ..., 169 168 164]\n",
      " [150 151 150 ..., 169 173 173]]\n"
     ]
    }
   ],
   "source": [
    "noised_image = addSaltAndPepperNoise(\"gray.jpg\", 0.05)\n",
    "scipy.misc.imsave(path + 'hello.jpg', noised_image)"
   ]
  },
  {
   "cell_type": "code",
   "execution_count": 152,
   "metadata": {},
   "outputs": [],
   "source": [
    "a = denoise(\"hello.jpg\")"
   ]
  },
  {
   "cell_type": "code",
   "execution_count": 153,
   "metadata": {},
   "outputs": [],
   "source": [
    "scipy.misc.imsave(path + 'a.jpg', a)"
   ]
  },
  {
   "cell_type": "code",
   "execution_count": 352,
   "metadata": {},
   "outputs": [],
   "source": [
    "def denoise_sap(I):\n",
    "    shift = 2\n",
    "    filter_size = (2*shift+1)**2\n",
    "    h = np.array([[1,1,1,1,1],[1,1,1,1,1],[1,1,0,1,1],[1,1,1,1,1],[1,1,1,1,1]])\n",
    "    hf = h.flatten('F')\n",
    "    image = cv2.imread(path + I, 0)\n",
    "    a = np.where(image==255)\n",
    "    b = np.where(image==0)\n",
    "    possible_noise = np.argwhere((image > 220) | (image < 35))\n",
    "    possible_noise += shift\n",
    "    image = np.pad(image,((shift,shift),(shift,shift)),'constant')\n",
    "    for i in possible_noise:\n",
    "        y = i[0]\n",
    "        x = i[1]\n",
    "        t = image[y - shift : y + shift + 1, x - shift : x + shift + 1]\n",
    "        tf = t.flatten('F')\n",
    "        r = np.dot(hf.T, tf)/( filter_size - 1)\n",
    "        image[y,x] = r\n",
    "    return image\n",
    "        "
   ]
  },
  {
   "cell_type": "code",
   "execution_count": 353,
   "metadata": {},
   "outputs": [],
   "source": [
    "denoised = denoise_sap(\"salt-and-pepper.jpg\")\n",
    "scipy.misc.imsave(path + 'new7.jpg', denoised)"
   ]
  },
  {
   "cell_type": "code",
   "execution_count": 355,
   "metadata": {},
   "outputs": [],
   "source": [
    "def denoise(I):\n",
    "    image = cv2.imread(path + I)\n",
    "    image = gaussian_filter(image, sigma=1)\n",
    "    return image"
   ]
  },
  {
   "cell_type": "code",
   "execution_count": 356,
   "metadata": {},
   "outputs": [],
   "source": [
    "denoised = denoise(\"new7.jpg\")\n",
    "scipy.misc.imsave(path + 'denoised10.jpg', denoised)"
   ]
  },
  {
   "cell_type": "code",
   "execution_count": 422,
   "metadata": {},
   "outputs": [],
   "source": [
    "def addSaltAndPepperNoiseColor(I,density):\n",
    "    image = cv2.imread(path + I, cv2.COLOR_BGR2RGB)\n",
    "    noise_r = np.random.choice([0,1,2], image.shape[0] * image.shape[1], p = [1 - density, density/2, density/2])\n",
    "    noise_g = np.random.choice([0,1,2], image.shape[0] * image.shape[1], p = [1 - density, density/2, density/2])\n",
    "    noise_b = np.random.choice([0,1,2], image.shape[0] * image.shape[1], p = [1 - density, density/2, density/2])\n",
    "    noise_r = noise_r.reshape((image.shape[0],image.shape[1]))\n",
    "    noise_g = noise_g.reshape((image.shape[0],image.shape[1]))\n",
    "    noise_b = noise_b.reshape((image.shape[0],image.shape[1]))\n",
    "    \n",
    "    r_where_salt = np.where(noise_r == 1)\n",
    "    r_where_pepper = np.where(noise_r == 2)\n",
    "    \n",
    "    g_where_salt = np.where(noise_g == 1)\n",
    "    g_where_pepper = np.where(noise_g == 2)\n",
    "    \n",
    "    b_where_salt = np.where(noise_b == 1)\n",
    "    b_where_pepper = np.where(noise_b == 2)\n",
    "    \n",
    "    image[:,:,0][r_where_salt] = 255\n",
    "    image[:,:,0][r_where_pepper] = 0\n",
    "    image[:,:,1][g_where_salt] = 255\n",
    "    image[:,:,1][g_where_pepper] = 0\n",
    "    image[:,:,2][b_where_salt] = 255\n",
    "    image[:,:,2][b_where_pepper] = 0\n",
    "    \n",
    "    return image"
   ]
  },
  {
   "cell_type": "code",
   "execution_count": 423,
   "metadata": {},
   "outputs": [],
   "source": [
    "noised = addSaltAndPepperNoiseColor(\"color.jpg\", 0.05)"
   ]
  },
  {
   "cell_type": "code",
   "execution_count": 424,
   "metadata": {},
   "outputs": [
    {
     "data": {
      "text/plain": [
       "True"
      ]
     },
     "execution_count": 424,
     "metadata": {},
     "output_type": "execute_result"
    }
   ],
   "source": [
    "cv2.imwrite(path + 'color_noised.jpg', noised)"
   ]
  },
  {
   "cell_type": "code",
   "execution_count": 509,
   "metadata": {},
   "outputs": [],
   "source": [
    "def MyCorrelation(I, h, mode):\n",
    "    img = cv2.imread(path+I)\n",
    "    img_x = img.shape[1]\n",
    "    img_y = img.shape[0]\n",
    "    h_x = h.shape[1]\n",
    "    h_y = h.shape[0]\n",
    "    l = h_x//2\n",
    "    f = h.flatten('F')\n",
    "    \n",
    "    if mode == \"full\":\n",
    "        new_x = img_x + (h_x - 1) * 2\n",
    "        new_y = img_y + (h_y - 1) * 2\n",
    "        \n",
    "        new_img = np.zeros((new_y, new_x))\n",
    "        \n",
    "        padding_img = np.pad(img, ((h_y - 1, h_y - 1), (h_x - 1, h_x - 1)), \"constant\")\n",
    "        \n",
    "        for i in range(l, new_y - l):\n",
    "            for j in range(l, new_x - l):\n",
    "                t = padding_img[i - l: i + l + 1, j - l : j + l + 1]\n",
    "                t = t.flatten('F')\n",
    "                result = np.dot(f.T, t)\n",
    "                new_img[i,j] = result\n",
    "                \n",
    "    elif mode == \"same\":\n",
    "        new_img = np.zeros(img.shape)\n",
    "        half_y = h_y//2\n",
    "        half_x = h_x//2\n",
    "        padding_img = np.pad(img, ((half_y, half_y),(half_x, half_x)), \"constant\")\n",
    "        \n",
    "        for i in range(l, img_y - l + 1):\n",
    "            for j in range(l, img_x - l + 1):\n",
    "                t = padding_img[i - l: i + l + 1, j - l : j + l + 1]\n",
    "                t = t.flatten('F')\n",
    "                result = np.dot(f.T, t)\n",
    "                new_img[i,j] = result\n",
    "                \n",
    "    elif mode == \"valid\":\n",
    "        new_x = img_x - h_x + 1\n",
    "        new_y = img_y - h_y + 1\n",
    "        new_img = np.zeros((new_y, new_x))\n",
    "        \n",
    "        for i in range(l, new_y - l + 1):\n",
    "            for j in range(l, new_x - l + 1):\n",
    "                t = img[i - l: i + l + 1, j - l : j + l + 1]\n",
    "                t = t.flatten('F')\n",
    "                result = np.dot(f.T, t)\n",
    "                new_img[i,j] = result\n",
    "    return new_img\n",
    "\n",
    "def isEdge(pixel):\n",
    "    if pixel > 220 or pixel < 35:\n",
    "        return True\n",
    "    else:\n",
    "        return False\n",
    "\n",
    "def find_noise(I):\n",
    "    edge_image = cv2.imread(path+I,0)\n",
    "    y = edge_image.shape[0]\n",
    "    x = edge_image.shape[1]\n",
    "    noise_list = []\n",
    "    for i in range(y):\n",
    "        for j in range(x):\n",
    "            if isEdge(edge_image[i,j]):\n",
    "                edgeCount = 0\n",
    "                if isEdge(edge_image[i-1,j]):\n",
    "                    edgeCount += 1\n",
    "                if isEdge(edge_image[i+1,j]):\n",
    "                    edgeCount += 1\n",
    "                if isEdge(edge_image[i-1,j-1]):\n",
    "                    edgeCount += 1\n",
    "                if isEdge(edge_image[i,j-1]):\n",
    "                    edgeCount += 1\n",
    "                if isEdge(edge_image[i+1,j-1]):\n",
    "                    edgeCount += 1\n",
    "                if isEdge(edge_image[i-1,j+1]):\n",
    "                    edgeCount += 1\n",
    "                if isEdge(edge_image[i,j+1]):\n",
    "                    edgeCount += 1\n",
    "                if isEdge(edge_image[i+1,j+1]):\n",
    "                    edgeCount += 1\n",
    "                if edgeCount <= 9:\n",
    "                    noise_list.append([i,j])\n",
    "    for i in noise_list:\n",
    "        y = i[0]\n",
    "        x = i[1]\n",
    "        edge_image[y,x]=0\n",
    "    return edge_image\n",
    "edge_image =  find_noise(\"color_edge.jpg\")\n",
    "cv2.imwrite(path + 'try2.jpg', edge_image)\n",
    "                    \n",
    "                    \n",
    "\n",
    "def denoise_color(I):\n",
    "    image = cv2.imread(path + I, cv2.COLOR_BGR2RGB)\n",
    "    print image.shape\n",
    "    r = image[:,:,0]\n",
    "    g = image[:,:,1]\n",
    "    b = image[:,:,2]\n",
    "    denoised_r = denoise(r)\n",
    "    denoised_g = denoise(g)\n",
    "    denoised_b = denoise(b)\n",
    "    new_image = np.dstack([denoised_r, denoised_g, denoised_b])\n",
    "    print new_image.shape\n",
    "    return new_image\n",
    "    "
   ]
  },
  {
   "cell_type": "raw",
   "metadata": {},
   "source": [
    "denoised = denoise_color(\"color_noised.jpg\")"
   ]
  },
  {
   "cell_type": "code",
   "execution_count": 488,
   "metadata": {},
   "outputs": [
    {
     "data": {
      "text/plain": [
       "True"
      ]
     },
     "execution_count": 488,
     "metadata": {},
     "output_type": "execute_result"
    }
   ],
   "source": [
    "cv2.imwrite(path + 'color_denoised4.jpg', denoised)"
   ]
  },
  {
   "cell_type": "code",
   "execution_count": null,
   "metadata": {},
   "outputs": [],
   "source": []
  }
 ],
 "metadata": {
  "kernelspec": {
   "display_name": "Python 2",
   "language": "python",
   "name": "python2"
  },
  "language_info": {
   "codemirror_mode": {
    "name": "ipython",
    "version": 2
   },
   "file_extension": ".py",
   "mimetype": "text/x-python",
   "name": "python",
   "nbconvert_exporter": "python",
   "pygments_lexer": "ipython2",
   "version": "2.7.14"
  }
 },
 "nbformat": 4,
 "nbformat_minor": 2
}
