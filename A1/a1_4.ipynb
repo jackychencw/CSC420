{
 "cells": [
  {
   "cell_type": "code",
   "execution_count": 17,
   "metadata": {},
   "outputs": [],
   "source": [
    "import numpy as np\n",
    "import cv2 as cv2\n",
    "import scipy.misc\n",
    "from scipy.ndimage.filters import gaussian_filter\n",
    "\n",
    "path = \"/Users/jackychencw/Desktop/CSC420/A1/\""
   ]
  },
  {
   "cell_type": "code",
   "execution_count": 18,
   "metadata": {
    "collapsed": true
   },
   "outputs": [],
   "source": [
    "def readImg(filename):\n",
    "    image = cv2.imread(path + filename, 0)\n",
    "    return image"
   ]
  },
  {
   "cell_type": "code",
   "execution_count": 19,
   "metadata": {
    "collapsed": true
   },
   "outputs": [],
   "source": [
    "# def writeFile(filename):\n",
    "#     f= open(path + filename,\"w+\")"
   ]
  },
  {
   "cell_type": "code",
   "execution_count": 32,
   "metadata": {},
   "outputs": [],
   "source": [
    "## I: an input grayscale image\n",
    "## h: a filter\n",
    "## mode: a string, valid, same or full\n",
    "## outputs a results J\n",
    "\n",
    "def MyCorrelation(I, h, mode):\n",
    "    img = readImg(I)\n",
    "    img_x = img.shape[1]\n",
    "    img_y = img.shape[0]\n",
    "    h_x = h.shape[1]\n",
    "    h_y = h.shape[0]\n",
    "    l = h_x//2\n",
    "    f = h.flatten('F')\n",
    "    \n",
    "    if mode == \"full\":\n",
    "        new_x = img_x + (h_x - 1) * 2\n",
    "        new_y = img_y + (h_y - 1) * 2\n",
    "        \n",
    "        new_img = np.zeros((new_y, new_x))\n",
    "        \n",
    "        padding_img = np.pad(img, ((h_y - 1, h_y - 1), (h_x - 1, h_x - 1)), \"constant\")\n",
    "        \n",
    "        for i in range(l, new_y - l):\n",
    "            for j in range(l, new_x - l):\n",
    "                t = padding_img[i - l: i + l + 1, j - l : j + l + 1]\n",
    "                t = t.flatten('F')\n",
    "                result = np.dot(f.T, t)\n",
    "                new_img[i,j] = result\n",
    "                \n",
    "    elif mode == \"same\":\n",
    "        new_img = np.zeros(img.shape)\n",
    "        half_y = h_y//2\n",
    "        half_x = h_x//2\n",
    "        padding_img = np.pad(img, ((half_y, half_y),(half_x, half_x)), \"constant\")\n",
    "        \n",
    "        for i in range(l, img_y - l + 1):\n",
    "            for j in range(l, img_x - l + 1):\n",
    "                t = padding_img[i - l: i + l + 1, j - l : j + l + 1]\n",
    "                t = t.flatten('F')\n",
    "                result = np.dot(f.T, t)\n",
    "                new_img[i,j] = result\n",
    "                \n",
    "    elif mode == \"valid\":\n",
    "        new_x = img_x - h_x + 1\n",
    "        new_y = img_y - h_y + 1\n",
    "        new_img = np.zeros((new_y, new_x))\n",
    "        \n",
    "        for i in range(l, new_y - l + 1):\n",
    "            for j in range(l, new_x - l + 1):\n",
    "                t = img[i - l: i + l + 1, j - l : j + l + 1]\n",
    "                t = t.flatten('F')\n",
    "                result = np.dot(f.T, t)\n",
    "                new_img[i,j] = result\n",
    "    return new_img"
   ]
  },
  {
   "cell_type": "code",
   "execution_count": 22,
   "metadata": {},
   "outputs": [],
   "source": [
    "h = np.ones((7,7))\n",
    "valid = MyCorrelation(\"gray.jpg\", h, \"valid\")\n",
    "scipy.misc.imsave(path + 'cor_valid.jpg', valid)\n",
    "same = MyCorrelation(\"gray.jpg\", h, \"same\")\n",
    "scipy.misc.imsave(path + 'cor_same.jpg', same)\n",
    "full = MyCorrelation(\"gray.jpg\", h, \"full\")\n",
    "scipy.misc.imsave(path + 'cor_full.jpg', full)"
   ]
  },
  {
   "cell_type": "code",
   "execution_count": 33,
   "metadata": {},
   "outputs": [],
   "source": [
    "h = np.array([[1,0,-1],[1,0,-1],[1,0,-1]])\n",
    "full = MyCorrelation(\"color_noised.jpg\", h, \"full\")\n",
    "scipy.misc.imsave(path + 'color_edge.jpg', full)"
   ]
  },
  {
   "cell_type": "code",
   "execution_count": 23,
   "metadata": {
    "collapsed": true
   },
   "outputs": [],
   "source": [
    "def MyConvolution(I, h, mode):\n",
    "    img = readImg(I)\n",
    "    img_x = img.shape[1]\n",
    "    img_y = img.shape[0]\n",
    "    h_x = h.shape[1]\n",
    "    h_y = h.shape[0]\n",
    "    l = h_x//2\n",
    "    h = np.flip(np.flip(h, 0),1)\n",
    "    f = h.flatten('F')\n",
    "    \n",
    "    if mode == \"full\":\n",
    "        new_x = img_x + (h_x - 1) * 2\n",
    "        new_y = img_y + (h_y - 1) * 2\n",
    "        \n",
    "        new_img = np.zeros((new_y, new_x))\n",
    "        \n",
    "        padding_img = np.pad(img, ((h_y - 1, h_y - 1), (h_x - 1, h_x - 1)), \"constant\")\n",
    "        \n",
    "        for i in range(l, new_y - l):\n",
    "            for j in range(l, new_x - l):\n",
    "                t = padding_img[i - l: i + l + 1, j - l : j + l + 1]\n",
    "                t = t.flatten('F')\n",
    "                result = np.dot(f.T, t)\n",
    "                new_img[i,j] = result\n",
    "                \n",
    "    elif mode == \"same\":\n",
    "        new_img = np.zeros(img.shape)\n",
    "        half_y = h_y//2\n",
    "        half_x = h_x//2\n",
    "        padding_img = np.pad(img, ((half_y, half_y),(half_x, half_x)), \"constant\")\n",
    "        \n",
    "        for i in range(l, img_y - l + 1):\n",
    "            for j in range(l, img_x - l + 1):\n",
    "                t = padding_img[i - l: i + l + 1, j - l : j + l + 1]\n",
    "                t = t.flatten('F')\n",
    "                result = np.dot(f.T, t)\n",
    "                new_img[i,j] = result\n",
    "                \n",
    "    elif mode == \"valid\":\n",
    "        new_x = img_x - h_x + 1\n",
    "        new_y = img_y - h_y + 1\n",
    "        new_img = np.zeros((new_y, new_x))\n",
    "        \n",
    "        for i in range(l, new_y - l + 1):\n",
    "            for j in range(l, new_x - l + 1):\n",
    "                t = img[i - l: i + l + 1, j - l : j + l + 1]\n",
    "                t = t.flatten('F')\n",
    "                result = np.dot(f.T, t)\n",
    "                new_img[i,j] = result\n",
    "    return new_img"
   ]
  },
  {
   "cell_type": "code",
   "execution_count": 26,
   "metadata": {},
   "outputs": [],
   "source": [
    "h = np.array([[1,0,-1],[1,0,-1],[1,0,-1]])\n",
    "new_img = MyConvolution(\"gray.jpg\", h, \"valid\")\n",
    "scipy.misc.imsave(path + 'con2.jpg', new_img)\n",
    "valid = MyCorrelation(\"gray.jpg\", h, \"valid\")\n",
    "scipy.misc.imsave(path + 'valid.jpg', valid)"
   ]
  },
  {
   "cell_type": "code",
   "execution_count": 14,
   "metadata": {},
   "outputs": [],
   "source": [
    "def portrait(I, h, mode, mask):\n",
    "    img = readImg(I)\n",
    "    new_img =gaussian_filter(img, sigma=7)\n",
    "    result = np.zeros(new_img.shape)\n",
    "    where_0 = np.where(mask == 0)\n",
    "    where_1 = np.where(mask == 1)\n",
    "    result[where_0] = new_img[where_0]\n",
    "    result[where_1] = img[where_1]\n",
    "    return result"
   ]
  },
  {
   "cell_type": "code",
   "execution_count": 16,
   "metadata": {},
   "outputs": [],
   "source": [
    "mask = np.zeros((200,200))\n",
    "h = np.ones((3,3))\n",
    "mask = np.pad(mask, ((300,300),(300,300)), \"constant\")\n",
    "img = portrait(\"gray.jpg\", h, \"same\", mask)\n",
    "scipy.misc.imsave(path + 'portrait2.jpg', img)"
   ]
  },
  {
   "cell_type": "code",
   "execution_count": 31,
   "metadata": {
    "collapsed": true
   },
   "outputs": [],
   "source": [
    "f = np.array([[1,1,1],[1,0,1],[1,1,1]])\n",
    "denoise = MyCorrelation(\"salt-and-pepper.jpg\", f, \"valid\")\n",
    "scipy.misc.imsave(path + 'sap-box3.jpg', denoise)"
   ]
  },
  {
   "cell_type": "code",
   "execution_count": null,
   "metadata": {
    "collapsed": true
   },
   "outputs": [],
   "source": []
  }
 ],
 "metadata": {
  "kernelspec": {
   "display_name": "Python 2",
   "language": "python",
   "name": "python2"
  },
  "language_info": {
   "codemirror_mode": {
    "name": "ipython",
    "version": 2
   },
   "file_extension": ".py",
   "mimetype": "text/x-python",
   "name": "python",
   "nbconvert_exporter": "python",
   "pygments_lexer": "ipython2",
   "version": "2.7.14"
  }
 },
 "nbformat": 4,
 "nbformat_minor": 2
}
